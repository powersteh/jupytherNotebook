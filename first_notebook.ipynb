{
 "cells": [
  {
   "cell_type": "markdown",
   "metadata": {},
   "source": [
    "# First Jupyter Notebook\n",
    "\n",
    "## Sub Header for dividing section\n",
    "\n",
    "**Paragraph explanation and conclusions**\n",
    "\n",
    "Text explanation etc etc \n",
    "\n",
    "1. List Item 1\n",
    "2. List Item 2 \n",
    "3. List Item 3\n",
    "\n",
    "One paragraph to talk abt stuff\n",
    "\n",
    "> another blockquote here and there\n",
    "\n",
    "back to the first level\n"
   ]
  },
  {
   "cell_type": "code",
   "execution_count": 1,
   "metadata": {},
   "outputs": [
    {
     "name": "stdout",
     "output_type": "stream",
     "text": [
      "hello world\n"
     ]
    }
   ],
   "source": [
    "#first test of Jupyter Notebook!\n",
    "a = 'hello'\n",
    "b = 'world'\n",
    "\n",
    "def sayHi(first, second):\n",
    "    return first + ' ' + second\n",
    "\n",
    "c = sayHi(a,b)\n",
    "\n",
    "print (c)"
   ]
  },
  {
   "cell_type": "code",
   "execution_count": 3,
   "metadata": {},
   "outputs": [],
   "source": [
    "#testing of class creation\n",
    "class newEmployee:\n",
    "\n",
    "    def __init__(self, firstName, lastName):\n",
    "        self.fname = firstName\n",
    "        self.lname = lastName\n",
    "        "
   ]
  },
  {
   "cell_type": "code",
   "execution_count": 6,
   "metadata": {},
   "outputs": [
    {
     "name": "stdout",
     "output_type": "stream",
     "text": [
      "John\n"
     ]
    }
   ],
   "source": [
    "#create sample object\n",
    "john = newEmployee(\"John\", \"Smith\")\n",
    "\n",
    "print(john.fname)"
   ]
  },
  {
   "cell_type": "code",
   "execution_count": 7,
   "metadata": {},
   "outputs": [
    {
     "name": "stdout",
     "output_type": "stream",
     "text": [
      "   sepal_length  sepal_width  petal_length  petal_width species\n",
      "0           5.1          3.5           1.4          0.2  setosa\n",
      "1           4.9          3.0           1.4          0.2  setosa\n",
      "2           4.7          3.2           1.3          0.2  setosa\n",
      "3           4.6          3.1           1.5          0.2  setosa\n",
      "4           5.0          3.6           1.4          0.2  setosa\n"
     ]
    }
   ],
   "source": [
    "#import iris dataset and test data printout\n",
    "import pandas as pd\n",
    "\n",
    "iris_df = pd.read_csv('iris.csv')\n",
    "\n",
    "print(iris_df.head())"
   ]
  },
  {
   "cell_type": "code",
   "execution_count": 13,
   "metadata": {},
   "outputs": [
    {
     "data": {
      "image/png": "[encoded data removed]",
      "text/plain": [
       "<Figure size 432x288 with 1 Axes>"
      ]
     },
     "metadata": {},
     "output_type": "display_data"
    }
   ],
   "source": [
    "#test plotting libary and show chart\n",
    "import matplotlib.pyplot as plt\n",
    "\n",
    "x = iris_df['sepal_length']\n",
    "y = iris_df['petal_length']\n",
    "\n",
    "plt.scatter(x,y)\n",
    "\n",
    "plt.show()\n"
   ]
  },
  {
   "cell_type": "code",
   "execution_count": 12,
   "metadata": {},
   "outputs": [
    {
     "name": "stdout",
     "output_type": "stream",
     "text": [
      "Loop number 1\n",
      "Loop number 2\n",
      "Loop number 3\n",
      "Loop number 4\n",
      "Loop number 5\n",
      "Loop number 6\n",
      "Loop number 7\n",
      "Loop number 8\n",
      "Loop number 9\n"
     ]
    }
   ],
   "source": [
    "#test a while loop\n",
    "i = 1\n",
    "while i < 10:\n",
    "    print ('Loop number', i)\n",
    "    i = i + 1\n"
   ]
  },
  {
   "cell_type": "code",
   "execution_count": null,
   "metadata": {},
   "outputs": [],
   "source": []
  }
 ],
 "metadata": {
  "kernelspec": {
   "display_name": "Python 3",
   "language": "python",
   "name": "python3"
  },
  "language_info": {
   "codemirror_mode": {
    "name": "ipython",
    "version": 3
   },
   "file_extension": ".py",
   "mimetype": "text/x-python",
   "name": "python",
   "nbconvert_exporter": "python",
   "pygments_lexer": "ipython3",
   "version": "3.6.5"
  }
 },
 "nbformat": 4,
 "nbformat_minor": 2
}
